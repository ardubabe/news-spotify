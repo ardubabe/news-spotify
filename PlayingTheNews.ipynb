{
 "cells": [
  {
   "cell_type": "code",
   "execution_count": 32,
   "id": "ea831fdf",
   "metadata": {},
   "outputs": [],
   "source": [
    "# import libraries\n",
    "# better to keep all imports at the top\n",
    "import spotipy\n",
    "import webbrowser\n",
    "import json\n",
    "import urllib.request\n",
    "import geocoder\n",
    "# natural languaging toolkit: gets rid of filler words\n",
    "from nltk.corpus import stopwords\n",
    "import spotipy.util as util\n",
    "import random"
   ]
  },
  {
   "cell_type": "code",
   "execution_count": 33,
   "id": "f070a5fb",
   "metadata": {},
   "outputs": [],
   "source": [
    "# only need a json if you are labelling multiple keys with names, if it is just one key it can be a txt file on it's own\n",
    "with open(\"news_keys.txt\", \"r\") as file:\n",
    "    key = file.read()"
   ]
  },
  {
   "cell_type": "code",
   "execution_count": 34,
   "id": "61868763",
   "metadata": {},
   "outputs": [],
   "source": [
    "# you can make variables within the URL so you don't share your keys publically, or so you can change it\n",
    "country = 'us'\n",
    "# this is the url for the news api\n",
    "url = ('https://newsapi.org/v2/top-headlines?country=' + country + '&apiKey=' + key)"
   ]
  },
  {
   "cell_type": "code",
   "execution_count": 35,
   "id": "5d72517e",
   "metadata": {},
   "outputs": [],
   "source": [
    "# request is when I'm asking for data\n",
    "request = urllib.request.Request(url)\n",
    "# response is the answer i get for asking for data\n",
    "response = urllib.request.urlopen(request)"
   ]
  },
  {
   "cell_type": "code",
   "execution_count": 36,
   "id": "c53b4674",
   "metadata": {},
   "outputs": [
    {
     "data": {
      "text/plain": [
       "http.client.HTTPResponse"
      ]
     },
     "execution_count": 36,
     "metadata": {},
     "output_type": "execute_result"
    }
   ],
   "source": [
    "# i didn't remember what data type response is so i printed it\n",
    "type(response)"
   ]
  },
  {
   "cell_type": "code",
   "execution_count": 37,
   "id": "26119b7e",
   "metadata": {},
   "outputs": [],
   "source": [
    "# converting the HTTPResponse object to a python dictionary\n",
    "headlines = json.loads(response.read())"
   ]
  },
  {
   "cell_type": "code",
   "execution_count": 38,
   "id": "38946cd5",
   "metadata": {},
   "outputs": [
    {
     "data": {
      "text/plain": [
       "{'status': 'ok',\n",
       " 'totalResults': 0,\n",
       " 'articles': [{'title': '150+ best Cyber Monday deals of 2022 — from Amazon to Zappos - Yahoo Life',\n",
       "   'author': 'Izabella Zaydenberg',\n",
       "   'source': {'Id': None, 'Name': 'Yahoo Entertainment'},\n",
       "   'publishedAt': '2022-11-28T14:29:44Z',\n",
       "   'url': 'https://www.yahoo.com/lifestyle/best-cyber-monday-deals-2022-091346024.html'},\n",
       "  {'title': 'Pilot, passenger rescued from plane that crashed into power lines in Montgomery Co. - WTOP',\n",
       "   'author': 'Joshua Barlow',\n",
       "   'source': {'Id': None, 'Name': 'WTOP'},\n",
       "   'publishedAt': '2022-11-28T14:15:00Z',\n",
       "   'url': 'http://wtop.com/montgomery-county/2022/11/outages-in-montgomery-co-after-small-plane-crashes-into-power-lines/'},\n",
       "  {'title': \"Mauna Loa is erupting for the first time since 1984, prompting an ashfall advisory for Hawaii's Big Island - CNN\",\n",
       "   'author': 'Monica Garrett, Dakin Andone',\n",
       "   'source': {'Id': 'cnn', 'Name': 'CNN'},\n",
       "   'publishedAt': '2022-11-28T14:02:00Z',\n",
       "   'url': 'https://www.cnn.com/2022/11/28/weather/hawaii-mauna-loa-volcano-eruption/index.html'},\n",
       "  {'title': 'Nearly 9 out of 10 covid deaths are people over 65 - The Washington Post',\n",
       "   'author': 'Ariana Eunjung Cha, Dan Keating',\n",
       "   'source': {'Id': 'the-washington-post', 'Name': 'The Washington Post'},\n",
       "   'publishedAt': '2022-11-28T14:00:00Z',\n",
       "   'url': 'https://www.washingtonpost.com/health/2022/11/28/covid-who-is-dying/'},\n",
       "  {'title': 'Police officer killed in CA after catfishing girl, killing family - USA TODAY',\n",
       "   'author': 'Natalie Neysa Alund, USA TODAY',\n",
       "   'source': {'Id': 'usa-today', 'Name': 'USA Today'},\n",
       "   'publishedAt': '2022-11-28T13:54:15Z',\n",
       "   'url': 'https://www.usatoday.com/story/news/nation/2022/11/28/police-killed-california-catfishing-girl-killing-family/10788663002/'},\n",
       "  {'title': 'Eagles vs. Packers score, takeaways: Jalen Hurts dominates as Philly earns 10th win; Aaron Rodgers injured - CBS Sports',\n",
       "   'author': 'Tyler Sullivan',\n",
       "   'source': {'Id': None, 'Name': 'CBS Sports'},\n",
       "   'publishedAt': '2022-11-28T13:35:00Z',\n",
       "   'url': 'https://www.cbssports.com/nfl/news/eagles-vs-packers-score-takeaways-jalen-hurts-dominates-as-philly-earns-10th-win-aaron-rodgers-injured/live/'},\n",
       "  {'title': 'Apple to Lose 6 Million iPhone Pros From Tumult at China Plant - Bloomberg',\n",
       "   'author': None,\n",
       "   'source': {'Id': 'bloomberg', 'Name': 'Bloomberg'},\n",
       "   'publishedAt': '2022-11-28T13:21:17Z',\n",
       "   'url': 'https://www.bloomberg.com/tosv2.html?vid=&uuid=f495f784-6f2c-11ed-9cc4-4667766e6257&url=L25ld3MvYXJ0aWNsZXMvMjAyMi0xMS0yOC9hcHBsZS10by1sb3NlLTYtbWlsbGlvbi1pcGhvbmUtcHJvcy1mcm9tLXR1bXVsdC1hdC1jaGluYS1wbGFudA=='},\n",
       "  {'title': \"Arkansas GOP governor says Trump's meeting with Holocaust denier is 'very troubling' and 'empowering' for extremism - CNN\",\n",
       "   'author': 'Devan Cole',\n",
       "   'source': {'Id': 'cnn', 'Name': 'CNN'},\n",
       "   'publishedAt': '2022-11-28T13:07:00Z',\n",
       "   'url': 'https://www.cnn.com/2022/11/27/politics/asa-hutchinson-trump-nick-fuentes-cnntv/index.html'},\n",
       "  {'title': \"Helen Mirren and Harrison Ford star in explosive trailer for 'Yellowstone' prequel '1923' - CNN\",\n",
       "   'author': 'Lianne Kolirin',\n",
       "   'source': {'Id': 'cnn', 'Name': 'CNN'},\n",
       "   'publishedAt': '2022-11-28T12:11:00Z',\n",
       "   'url': 'https://www.cnn.com/2022/11/28/entertainment/1923-trailer-release-scli-intl/index.html'},\n",
       "  {'title': 'Green Sprouts issues recall for 10500 bottles and cups - WFAA',\n",
       "   'author': None,\n",
       "   'source': {'Id': None, 'Name': 'YouTube'},\n",
       "   'publishedAt': '2022-11-28T11:40:33Z',\n",
       "   'url': 'https://www.youtube.com/watch?v=C2cAELKxE8s'},\n",
       "  {'title': \"First lady Jill Biden chooses 'We the People' as theme for White House holiday decorations - CNN\",\n",
       "   'author': 'Kate Bennett',\n",
       "   'source': {'Id': 'cnn', 'Name': 'CNN'},\n",
       "   'publishedAt': '2022-11-28T11:05:00Z',\n",
       "   'url': 'https://www.cnn.com/2022/11/28/politics/jill-biden-white-house-holiday-decorations/index.html'},\n",
       "  {'title': \"Bob Dylan apologises for machine-printed 'signatures' - BBC\",\n",
       "   'author': 'https://www.facebook.com/bbcnews',\n",
       "   'source': {'Id': None, 'Name': 'BBC News'},\n",
       "   'publishedAt': '2022-11-28T10:45:46Z',\n",
       "   'url': 'https://www.bbc.com/news/entertainment-arts-63779904'},\n",
       "  {'title': 'LIST: Houston school districts closed due to citywide boil water notice - KHOU.com',\n",
       "   'author': 'KHOU 11 Staff',\n",
       "   'source': {'Id': None, 'Name': 'KHOU.com'},\n",
       "   'publishedAt': '2022-11-28T10:29:16Z',\n",
       "   'url': 'https://www.khou.com/article/news/education/hisd-clancels-class-boil-water-notice/285-25804468-cee0-45fd-8acc-ed8f4c39640c'},\n",
       "  {'title': 'Improve memory as you age by eating more flavonols, study says - CNN',\n",
       "   'author': 'Sandee LaMotte',\n",
       "   'source': {'Id': 'cnn', 'Name': 'CNN'},\n",
       "   'publishedAt': '2022-11-28T10:09:00Z',\n",
       "   'url': 'https://www.cnn.com/2022/11/28/health/flavonols-memory-boost-wellness/index.html'},\n",
       "  {'title': 'China says BBC reporter did not identify himself as a journalist - Reuters',\n",
       "   'author': None,\n",
       "   'source': {'Id': 'reuters', 'Name': 'Reuters'},\n",
       "   'publishedAt': '2022-11-28T08:58:34Z',\n",
       "   'url': 'https://www.reuters.com/world/china/china-says-bbc-reporter-did-not-identify-himself-journalist-2022-11-28/'},\n",
       "  {'title': 'Exclusive: U.S. weighs sending 100-mile strike weapon to Ukraine - Reuters',\n",
       "   'author': None,\n",
       "   'source': {'Id': 'reuters', 'Name': 'Reuters'},\n",
       "   'publishedAt': '2022-11-28T07:39:00Z',\n",
       "   'url': 'https://www.reuters.com/business/aerospace-defense/100-mile-strike-weapon-weighed-ukraine-arms-makers-wrestle-with-demand-sources-2022-11-28/'},\n",
       "  {'title': 'China eases COVID rules after protests, keeps wider strategy - The Associated Press - en Español',\n",
       "   'author': 'Joe Mcdonald',\n",
       "   'source': {'Id': 'associated-press', 'Name': 'Associated Press'},\n",
       "   'publishedAt': '2022-11-28T07:26:05Z',\n",
       "   'url': 'https://apnews.com/article/health-china-beijing-xi-jinping-shanghai-8d0cbd9eb026f46b24316c573df2e3a2'},\n",
       "  {'title': 'Kim Kardashian breaks silence on controversial Balenciaga kids ad campaign - Page Six',\n",
       "   'author': 'Allie Griffin',\n",
       "   'source': {'Id': None, 'Name': 'Page Six'},\n",
       "   'publishedAt': '2022-11-28T06:36:00Z',\n",
       "   'url': 'https://pagesix.com/2022/11/28/kim-kardashian-breaks-silence-on-controversial-balenciaga-kids-ad-campaign/'}]}"
      ]
     },
     "execution_count": 38,
     "metadata": {},
     "output_type": "execute_result"
    }
   ],
   "source": [
    "# printing headlines/titles from the news api\n",
    "headlines"
   ]
  },
  {
   "cell_type": "code",
   "execution_count": 39,
   "id": "83410f69",
   "metadata": {},
   "outputs": [],
   "source": [
    "# make an empty list of my titles\n",
    "article_titles =[]\n",
    "for headline in headlines['articles']:\n",
    "    article_titles.append(headline['title'])"
   ]
  },
  {
   "cell_type": "code",
   "execution_count": 40,
   "id": "98d801fa",
   "metadata": {},
   "outputs": [
    {
     "data": {
      "text/plain": [
       "['150+ best Cyber Monday deals of 2022 — from Amazon to Zappos - Yahoo Life',\n",
       " 'Pilot, passenger rescued from plane that crashed into power lines in Montgomery Co. - WTOP',\n",
       " \"Mauna Loa is erupting for the first time since 1984, prompting an ashfall advisory for Hawaii's Big Island - CNN\",\n",
       " 'Nearly 9 out of 10 covid deaths are people over 65 - The Washington Post',\n",
       " 'Police officer killed in CA after catfishing girl, killing family - USA TODAY',\n",
       " 'Eagles vs. Packers score, takeaways: Jalen Hurts dominates as Philly earns 10th win; Aaron Rodgers injured - CBS Sports',\n",
       " 'Apple to Lose 6 Million iPhone Pros From Tumult at China Plant - Bloomberg',\n",
       " \"Arkansas GOP governor says Trump's meeting with Holocaust denier is 'very troubling' and 'empowering' for extremism - CNN\",\n",
       " \"Helen Mirren and Harrison Ford star in explosive trailer for 'Yellowstone' prequel '1923' - CNN\",\n",
       " 'Green Sprouts issues recall for 10500 bottles and cups - WFAA',\n",
       " \"First lady Jill Biden chooses 'We the People' as theme for White House holiday decorations - CNN\",\n",
       " \"Bob Dylan apologises for machine-printed 'signatures' - BBC\",\n",
       " 'LIST: Houston school districts closed due to citywide boil water notice - KHOU.com',\n",
       " 'Improve memory as you age by eating more flavonols, study says - CNN',\n",
       " 'China says BBC reporter did not identify himself as a journalist - Reuters',\n",
       " 'Exclusive: U.S. weighs sending 100-mile strike weapon to Ukraine - Reuters',\n",
       " 'China eases COVID rules after protests, keeps wider strategy - The Associated Press - en Español',\n",
       " 'Kim Kardashian breaks silence on controversial Balenciaga kids ad campaign - Page Six']"
      ]
     },
     "execution_count": 40,
     "metadata": {},
     "output_type": "execute_result"
    }
   ],
   "source": [
    "article_titles"
   ]
  },
  {
   "cell_type": "code",
   "execution_count": 41,
   "id": "3a48b4cc",
   "metadata": {},
   "outputs": [
    {
     "ename": "SyntaxError",
     "evalue": "incomplete input (2661653382.py, line 4)",
     "output_type": "error",
     "traceback": [
      "\u001b[1;36m  Cell \u001b[1;32mIn[41], line 4\u001b[1;36m\u001b[0m\n\u001b[1;33m    \u001b[0m\n\u001b[1;37m    ^\u001b[0m\n\u001b[1;31mSyntaxError\u001b[0m\u001b[1;31m:\u001b[0m incomplete input\n"
     ]
    }
   ],
   "source": [
    "# go through each title/headlines\n",
    "for headline in article_titles:\n",
    "    # i want to go through each word of each title\n",
    "    "
   ]
  },
  {
   "cell_type": "code",
   "execution_count": 42,
   "id": "211163a8",
   "metadata": {},
   "outputs": [
    {
     "name": "stdout",
     "output_type": "stream",
     "text": [
      "best\n",
      "cyber\n",
      "monday\n",
      "deals\n",
      "amazon\n",
      "zappos\n",
      "yahoo\n",
      "life\n"
     ]
    }
   ],
   "source": [
    "article_titles[0]\n",
    "#.split (\" \") -> makes it split the sentences by words rather than letters\n",
    "for word in article_titles[0].lower().split(\" \"):\n",
    "    # is the word not a stopword?\n",
    "    # is the word not a number?\n",
    "    if word not in stopwords.words('english') and word.isalpha():\n",
    "        print(word)"
   ]
  },
  {
   "cell_type": "code",
   "execution_count": 43,
   "id": "51efe69b",
   "metadata": {},
   "outputs": [],
   "source": [
    "list_of_words = []\n",
    "# NESTED for loop (bruh)\n",
    "# go through each title\n",
    "for title in article_titles:\n",
    "    \n",
    "# go through each word \n",
    "    for word in title.lower().split(\" \"):\n",
    "    # is the word not a stopword?\n",
    "    # is the word not a number?\n",
    "        if word not in stopwords.words('english') and word.isalpha():\n",
    "            list_of_words.append(word)"
   ]
  },
  {
   "cell_type": "code",
   "execution_count": 44,
   "id": "a8af34b3",
   "metadata": {},
   "outputs": [
    {
     "data": {
      "text/plain": [
       "['best',\n",
       " 'cyber',\n",
       " 'monday',\n",
       " 'deals',\n",
       " 'amazon',\n",
       " 'zappos',\n",
       " 'yahoo',\n",
       " 'life',\n",
       " 'passenger',\n",
       " 'rescued',\n",
       " 'plane',\n",
       " 'crashed',\n",
       " 'power',\n",
       " 'lines',\n",
       " 'montgomery',\n",
       " 'wtop',\n",
       " 'mauna',\n",
       " 'loa',\n",
       " 'erupting',\n",
       " 'first',\n",
       " 'time',\n",
       " 'since',\n",
       " 'prompting',\n",
       " 'ashfall',\n",
       " 'advisory',\n",
       " 'big',\n",
       " 'island',\n",
       " 'cnn',\n",
       " 'nearly',\n",
       " 'covid',\n",
       " 'deaths',\n",
       " 'people',\n",
       " 'washington',\n",
       " 'post',\n",
       " 'police',\n",
       " 'officer',\n",
       " 'killed',\n",
       " 'ca',\n",
       " 'catfishing',\n",
       " 'killing',\n",
       " 'family',\n",
       " 'usa',\n",
       " 'today',\n",
       " 'eagles',\n",
       " 'packers',\n",
       " 'jalen',\n",
       " 'hurts',\n",
       " 'dominates',\n",
       " 'philly',\n",
       " 'earns',\n",
       " 'aaron',\n",
       " 'rodgers',\n",
       " 'injured',\n",
       " 'cbs',\n",
       " 'sports',\n",
       " 'apple',\n",
       " 'lose',\n",
       " 'million',\n",
       " 'iphone',\n",
       " 'pros',\n",
       " 'tumult',\n",
       " 'china',\n",
       " 'plant',\n",
       " 'bloomberg',\n",
       " 'arkansas',\n",
       " 'gop',\n",
       " 'governor',\n",
       " 'says',\n",
       " 'meeting',\n",
       " 'holocaust',\n",
       " 'denier',\n",
       " 'extremism',\n",
       " 'cnn',\n",
       " 'helen',\n",
       " 'mirren',\n",
       " 'harrison',\n",
       " 'ford',\n",
       " 'star',\n",
       " 'explosive',\n",
       " 'trailer',\n",
       " 'prequel',\n",
       " 'cnn',\n",
       " 'green',\n",
       " 'sprouts',\n",
       " 'issues',\n",
       " 'recall',\n",
       " 'bottles',\n",
       " 'cups',\n",
       " 'wfaa',\n",
       " 'first',\n",
       " 'lady',\n",
       " 'jill',\n",
       " 'biden',\n",
       " 'chooses',\n",
       " 'theme',\n",
       " 'white',\n",
       " 'house',\n",
       " 'holiday',\n",
       " 'decorations',\n",
       " 'cnn',\n",
       " 'bob',\n",
       " 'dylan',\n",
       " 'apologises',\n",
       " 'bbc',\n",
       " 'houston',\n",
       " 'school',\n",
       " 'districts',\n",
       " 'closed',\n",
       " 'due',\n",
       " 'citywide',\n",
       " 'boil',\n",
       " 'water',\n",
       " 'notice',\n",
       " 'improve',\n",
       " 'memory',\n",
       " 'age',\n",
       " 'eating',\n",
       " 'study',\n",
       " 'says',\n",
       " 'cnn',\n",
       " 'china',\n",
       " 'says',\n",
       " 'bbc',\n",
       " 'reporter',\n",
       " 'identify',\n",
       " 'journalist',\n",
       " 'reuters',\n",
       " 'weighs',\n",
       " 'sending',\n",
       " 'strike',\n",
       " 'weapon',\n",
       " 'ukraine',\n",
       " 'reuters',\n",
       " 'china',\n",
       " 'eases',\n",
       " 'covid',\n",
       " 'rules',\n",
       " 'keeps',\n",
       " 'wider',\n",
       " 'strategy',\n",
       " 'associated',\n",
       " 'press',\n",
       " 'en',\n",
       " 'español',\n",
       " 'kim',\n",
       " 'kardashian',\n",
       " 'breaks',\n",
       " 'silence',\n",
       " 'controversial',\n",
       " 'balenciaga',\n",
       " 'kids',\n",
       " 'ad',\n",
       " 'campaign',\n",
       " 'page',\n",
       " 'six']"
      ]
     },
     "execution_count": 44,
     "metadata": {},
     "output_type": "execute_result"
    }
   ],
   "source": [
    "list_of_words"
   ]
  },
  {
   "cell_type": "code",
   "execution_count": 45,
   "id": "d5aea722",
   "metadata": {},
   "outputs": [],
   "source": [
    "# finding how many times certain words were repeated\n",
    "dict_of_words = {}\n",
    "# NESTED for loop (bruh)\n",
    "# go through each title\n",
    "for title in article_titles:\n",
    "    \n",
    "# go through each word \n",
    "    for word in title.lower().split(\" \"):\n",
    "    # is the word not a stopword?\n",
    "    # is the word not a number?\n",
    "        if word not in stopwords.words('english') and word.isalpha():\n",
    "            if word in dict_of_words:\n",
    "                dict_of_words[word] += 1\n",
    "            else:\n",
    "                dict_of_words[word] = 1"
   ]
  },
  {
   "cell_type": "code",
   "execution_count": 46,
   "id": "2b0e999e",
   "metadata": {},
   "outputs": [
    {
     "data": {
      "text/plain": [
       "{'best': 1,\n",
       " 'cyber': 1,\n",
       " 'monday': 1,\n",
       " 'deals': 1,\n",
       " 'amazon': 1,\n",
       " 'zappos': 1,\n",
       " 'yahoo': 1,\n",
       " 'life': 1,\n",
       " 'passenger': 1,\n",
       " 'rescued': 1,\n",
       " 'plane': 1,\n",
       " 'crashed': 1,\n",
       " 'power': 1,\n",
       " 'lines': 1,\n",
       " 'montgomery': 1,\n",
       " 'wtop': 1,\n",
       " 'mauna': 1,\n",
       " 'loa': 1,\n",
       " 'erupting': 1,\n",
       " 'first': 2,\n",
       " 'time': 1,\n",
       " 'since': 1,\n",
       " 'prompting': 1,\n",
       " 'ashfall': 1,\n",
       " 'advisory': 1,\n",
       " 'big': 1,\n",
       " 'island': 1,\n",
       " 'cnn': 5,\n",
       " 'nearly': 1,\n",
       " 'covid': 2,\n",
       " 'deaths': 1,\n",
       " 'people': 1,\n",
       " 'washington': 1,\n",
       " 'post': 1,\n",
       " 'police': 1,\n",
       " 'officer': 1,\n",
       " 'killed': 1,\n",
       " 'ca': 1,\n",
       " 'catfishing': 1,\n",
       " 'killing': 1,\n",
       " 'family': 1,\n",
       " 'usa': 1,\n",
       " 'today': 1,\n",
       " 'eagles': 1,\n",
       " 'packers': 1,\n",
       " 'jalen': 1,\n",
       " 'hurts': 1,\n",
       " 'dominates': 1,\n",
       " 'philly': 1,\n",
       " 'earns': 1,\n",
       " 'aaron': 1,\n",
       " 'rodgers': 1,\n",
       " 'injured': 1,\n",
       " 'cbs': 1,\n",
       " 'sports': 1,\n",
       " 'apple': 1,\n",
       " 'lose': 1,\n",
       " 'million': 1,\n",
       " 'iphone': 1,\n",
       " 'pros': 1,\n",
       " 'tumult': 1,\n",
       " 'china': 3,\n",
       " 'plant': 1,\n",
       " 'bloomberg': 1,\n",
       " 'arkansas': 1,\n",
       " 'gop': 1,\n",
       " 'governor': 1,\n",
       " 'says': 3,\n",
       " 'meeting': 1,\n",
       " 'holocaust': 1,\n",
       " 'denier': 1,\n",
       " 'extremism': 1,\n",
       " 'helen': 1,\n",
       " 'mirren': 1,\n",
       " 'harrison': 1,\n",
       " 'ford': 1,\n",
       " 'star': 1,\n",
       " 'explosive': 1,\n",
       " 'trailer': 1,\n",
       " 'prequel': 1,\n",
       " 'green': 1,\n",
       " 'sprouts': 1,\n",
       " 'issues': 1,\n",
       " 'recall': 1,\n",
       " 'bottles': 1,\n",
       " 'cups': 1,\n",
       " 'wfaa': 1,\n",
       " 'lady': 1,\n",
       " 'jill': 1,\n",
       " 'biden': 1,\n",
       " 'chooses': 1,\n",
       " 'theme': 1,\n",
       " 'white': 1,\n",
       " 'house': 1,\n",
       " 'holiday': 1,\n",
       " 'decorations': 1,\n",
       " 'bob': 1,\n",
       " 'dylan': 1,\n",
       " 'apologises': 1,\n",
       " 'bbc': 2,\n",
       " 'houston': 1,\n",
       " 'school': 1,\n",
       " 'districts': 1,\n",
       " 'closed': 1,\n",
       " 'due': 1,\n",
       " 'citywide': 1,\n",
       " 'boil': 1,\n",
       " 'water': 1,\n",
       " 'notice': 1,\n",
       " 'improve': 1,\n",
       " 'memory': 1,\n",
       " 'age': 1,\n",
       " 'eating': 1,\n",
       " 'study': 1,\n",
       " 'reporter': 1,\n",
       " 'identify': 1,\n",
       " 'journalist': 1,\n",
       " 'reuters': 2,\n",
       " 'weighs': 1,\n",
       " 'sending': 1,\n",
       " 'strike': 1,\n",
       " 'weapon': 1,\n",
       " 'ukraine': 1,\n",
       " 'eases': 1,\n",
       " 'rules': 1,\n",
       " 'keeps': 1,\n",
       " 'wider': 1,\n",
       " 'strategy': 1,\n",
       " 'associated': 1,\n",
       " 'press': 1,\n",
       " 'en': 1,\n",
       " 'español': 1,\n",
       " 'kim': 1,\n",
       " 'kardashian': 1,\n",
       " 'breaks': 1,\n",
       " 'silence': 1,\n",
       " 'controversial': 1,\n",
       " 'balenciaga': 1,\n",
       " 'kids': 1,\n",
       " 'ad': 1,\n",
       " 'campaign': 1,\n",
       " 'page': 1,\n",
       " 'six': 1}"
      ]
     },
     "execution_count": 46,
     "metadata": {},
     "output_type": "execute_result"
    }
   ],
   "source": [
    "dict_of_words"
   ]
  },
  {
   "cell_type": "code",
   "execution_count": 49,
   "id": "2dba2fa2",
   "metadata": {
    "scrolled": true
   },
   "outputs": [],
   "source": [
    "# open file with keys and set the path to your credentials JSON file\n",
    "credentials = \"spotify_keys.json\"\n",
    "with open(credentials, \"r\") as keys:\n",
    "    api_tokens = json.load(keys)"
   ]
  },
  {
   "cell_type": "code",
   "execution_count": 50,
   "id": "e4ee594a",
   "metadata": {},
   "outputs": [],
   "source": [
    "client_id = api_tokens[\"client_id\"]\n",
    "client_secret = api_tokens[\"client_secret\"]\n",
    "redirectURI = api_tokens[\"redirect\"]\n",
    "username = api_tokens[\"username\"]"
   ]
  },
  {
   "cell_type": "code",
   "execution_count": 51,
   "id": "fd6c2751",
   "metadata": {},
   "outputs": [
    {
     "name": "stdout",
     "output_type": "stream",
     "text": [
      "Enter the URL you were redirected to: https://www.google.com/?code=AQC4-PZyfE24G30uGAkhNtrUaRmZz8Iam5OyKfBKzE4E1QRd5QBmt3bQI_J3lmzu-tM0skF2fndejHitnQEfN0SixcY7w1eG2A1ebQbFSAPOLrhl3dOGuwqbWatxe9LasgOM8rTZms5FIo8FPr1BGTQoEew_kVsWkXxS9xyR6iOof8h76S3BopnMmhHK31w5MIVqfOJcc6rBxTCBaJRLBBa1v27_mp2-jf0qDNab_PGu63zJ-IVfnDJIvBoI31XajNSjllGKTBw27XHqoC8dRFjLgNNWujqwiMef8gGY-hdkcebbgzBaiKtF\n"
     ]
    }
   ],
   "source": [
    "scope = 'user-read-private user-read-playback-state user-modify-playback-state playlist-modify-public user-library-read'\n",
    "token = util.prompt_for_user_token(username, scope, client_id=client_id,\n",
    "                           client_secret=client_secret,\n",
    "                           redirect_uri=redirectURI)"
   ]
  },
  {
   "cell_type": "code",
   "execution_count": 52,
   "id": "a2bfde39",
   "metadata": {},
   "outputs": [
    {
     "data": {
      "text/plain": [
       "'BQAR7fLZiuxnK6P4bJ5zU-mAAxaRZeX9hcNtGedrynvx-xbOQwneFwyWquOvaX_wfOHQbIyblP5bW8wEmMGUhhdwwfJWF7W9sRg2qwDIGVySGScy8E8I9AvOV4QibF2Yf0yq_b1mmtpzVVEQQursN2PkFm9EO-YBbn4m3r-tHfHpSfstGpDhKXglaPTPsdda3g7ufXiGfKlRLG1w1Nu1fqrnGfnFulauA6jfYbV4134GDpr2'"
      ]
     },
     "execution_count": 52,
     "metadata": {},
     "output_type": "execute_result"
    }
   ],
   "source": [
    "#print out token\n",
    "token"
   ]
  },
  {
   "cell_type": "code",
   "execution_count": 53,
   "id": "f1ac7404",
   "metadata": {},
   "outputs": [],
   "source": [
    "# create my spotify object\n",
    "sp = spotipy.Spotify(auth=token)"
   ]
  },
  {
   "cell_type": "code",
   "execution_count": 54,
   "id": "0c8ffee0",
   "metadata": {},
   "outputs": [],
   "source": [
    "for keyword in dict_of_words.keys():\n",
    "    # search for artist based on my keyword, only give me one artist\n",
    "    searchResults = sp.search(q=\"artist:\" + keyword, type=\"track\", limit=1)"
   ]
  },
  {
   "cell_type": "code",
   "execution_count": 59,
   "id": "0809fbd7",
   "metadata": {},
   "outputs": [
    {
     "data": {
      "text/plain": [
       "'spotify:track:7dDrR6vMK1JAwZZ5MIWgme'"
      ]
     },
     "execution_count": 59,
     "metadata": {},
     "output_type": "execute_result"
    }
   ],
   "source": [
    "# test with te first one, if this works, it will work for them all\n",
    "searchResults = sp.search(q=\"artist:\" + \"dylan\", type=\"track\", limit=1)\n",
    "searchResults['tracks']['items'][0]['uri']"
   ]
  },
  {
   "cell_type": "code",
   "execution_count": 63,
   "id": "ad90a3b9",
   "metadata": {},
   "outputs": [
    {
     "name": "stdout",
     "output_type": "stream",
     "text": [
      "['spotify:track:2EkSGZR1U1TrkxxmuxUBtW', 'spotify:track:4vxsJyTGsAxnXWDuYseeQP', 'spotify:track:4gAU0cHQJFxj1n2ZDiEIzG', 'spotify:track:7sTf1AzpPzzglMeBRTWhqP', 'spotify:track:243b3t0P416vtdmxRllHEV', 'spotify:track:4BHNE4bq8JllPn5yng9M7B', 'spotify:track:0815caqt2Lytro5EIzMufT', 'spotify:track:5rEvuW4YhwobKwGL1HPrXA', 'spotify:track:0IAl2ohXeMzgOkNzGRTLhi', 'spotify:track:497Fkp3gRiGrRMoqBTDudr', 'spotify:track:16Ad3szl0aAP3q5KoP18P8', 'spotify:track:4cuJbDiraxt9AsEeevmFuQ', 'spotify:track:2cSdAkzAf2T4j4aLvx4LLz', 'spotify:track:2IVsRhKrx8hlQBOWy4qebo', 'spotify:track:6Wojj1I5egf6mzvjw3YTrx', 'spotify:track:3IuSgREoO5y88HdIcE2Xee', 'spotify:track:4cIZQdTrTk4qIqGaDQz9ci', 'spotify:track:5BkNCuxzzid0gz9sx3NNbX', 'spotify:track:0JJP0IS4w0fJx01EcrfkDe', 'spotify:track:1MeYeeJV7BUmp3Kf0wEmQe', 'spotify:track:1PfHPPvsEhhZbySGwquVst', 'spotify:track:7baoiavOpxfMNIiQjGsR1Q', 'spotify:track:4RCns29f0ef8OLnU2cRpSp', 'spotify:track:3Byz6Mk9WCNYeGthiDVti2', 'spotify:track:522YBf6WqBwJVAe7oHLymu', 'spotify:track:4N7ERSgm2XUujwW2NST8rq', 'spotify:track:1zIXkgF6T0MJn2mk7SaHHF', 'spotify:track:7MVXZzxtB5n79LujrlCDQx', 'spotify:track:3OGayiVlUB18ZNhjGsyyX9', 'spotify:track:7w87IxuO7BDcJ3YUqCyMTT', 'spotify:track:1ko2lVN0vKGUl9zrU0qSlT', 'spotify:track:0O6u0VJ46W86TxN9wgyqDj', 'spotify:track:1JSTJqkT5qHq8MDJnJbRE1', 'spotify:track:7arGIO8om7TdI0ymebjmk9', 'spotify:track:3iHbOCMjFONr2v6WFPLtZK', 'spotify:track:5uSFGgIfHMT3osrAd9n9ym', 'spotify:track:1zkQJfNo2KpqqCKOOvWPF4', 'spotify:track:0AQHfKjzky28rf5ytfBANJ', 'spotify:track:18OvajSWAiuzquxOcvQZoN', 'spotify:track:1YaQLZo3xGvu672TFRJFx4', 'spotify:track:40riOy7x9W7GXjyGp4pjAv', 'spotify:track:5AxThlogq1ddfJdhMetYpq', 'spotify:track:3zdtYfRqOn1axEmHZTWivp', 'spotify:track:36jSIOSE72neBbKntCthqw', 'spotify:track:7slwerf926Uk6ZtZYPAJLJ', 'spotify:track:63xq7pnYynqDWMwmkaZWI2', 'spotify:track:0MaQuFkyOav01SbKFARhQF', 'spotify:track:4IlqQhaxrGPxmg35YcXXuS', 'spotify:track:3dV1fjKOlLnaNK5MeZHXGv', 'spotify:track:5APwWk6Wl1vRENlfRzAd3J', 'spotify:track:7yLq4SlBo8IbV6RkCPzAFB', 'spotify:track:2qpacEyFxmbxCpIEqZkqvC', 'spotify:track:0IVkP59yJ9GFF6B7IrvrxA', 'spotify:track:6M0euvqc0xi2IW0aBPnijp', 'spotify:track:3FMedgGsLUNwx8NciePFEK', 'spotify:track:23kz43s1SnX5MTgliKEbeU', 'spotify:track:3FIb81xI76x7pGPbFbzZXu', 'spotify:track:4Moz9jj3AP1sAs5ZIFRg9B', 'spotify:track:53xAT6jud1w0NqlBjSW4VB', 'spotify:track:7257drAN3eTtaaUUPw95B3', 'spotify:track:4awRFbps6brQV2GVAqQ3IQ', 'spotify:track:0JFEn4sPozptBShOuqMQVs', 'spotify:track:57xc4VnoNrFQLohNVkbvtp', 'spotify:track:2Fxn9wa3Nv1QGuRptSqPHO', 'spotify:track:38oKZYp7GYisfrhWFAlTkV', 'spotify:track:2t0Ih7qpbuYQbJXgGmjRoL', 'spotify:track:41DPdRpN14Xv8khpafNZmg', 'spotify:track:1H78lTh1adDjmKXqBx6bY4', 'spotify:track:0zQ2Qbxic7cXWOVv9Qy98n', 'spotify:track:3jbNY6t5t1rtKAlbPsHv7v', 'spotify:track:4iRCObcsxjwZBzGNajklYW', 'spotify:track:7kuOhBGsXjpwvLRQCDAPAJ', 'spotify:track:1LzNfuep1bnAUR9skqdHCK', 'spotify:track:3QOtLCSEML1uxWKNnsRWrF', 'spotify:track:0scOdTwD5lyyIragAQtY9N', 'spotify:track:5exxrzkNEBP3cxOhtvn4ii', 'spotify:track:6L89mwZXSOwYl76YXfX13s', 'spotify:track:4Pxaf8i0UW96a5jqIkJqmN', 'spotify:track:2drTjmYf4KfzBeW5fCEYco', 'spotify:track:3MjtyQvkVOo0TahwcZe10N', 'spotify:track:6HEw7G63WkDZbD3DGEBE7N', 'spotify:track:7vVG9xbmNQrtdSPTi7KDUm', 'spotify:track:6vZSmZ1iv49UrwMN6XBdzN', 'spotify:track:1dzQoRqT5ucxXVaAhTcT0J', 'spotify:track:1qWV2QMhVwWRDAbirrkkf1', 'spotify:track:7DxOROQmW4IYeI0RTpaVPN', 'spotify:track:6xosBjlbUL4vjH8NpRf2ot', 'spotify:track:5EbKmAd0qWa7nl7E2ys6Cp', 'spotify:track:2bRKxuH1o7pTmb1y4GfdEc', 'spotify:track:1ZgMsA55GIY7ICkQh5MILA', 'spotify:track:30QD4VRP9yEneOh0eGTrtJ', 'spotify:track:28BOnoafStObvUsRIjTjAr', 'spotify:track:7vQbuQcyTflfCIOu3Uzzya', 'spotify:track:7dDrR6vMK1JAwZZ5MIWgme', 'spotify:track:0vJN0jvhJ5nknlcIdDdlD3', 'spotify:track:2tUBqZG2AbRi7Q0BIrVrEj', 'spotify:track:0zO8ctW0UiuOefR87OeJOZ', 'spotify:track:2wb2FptR9dbAw9TIQpMfZ1', 'spotify:track:3LQTJhA1bJpKNwEzwpdJzk', 'spotify:track:00nI6PkIbqpINaqxzKUTTs', 'spotify:track:7IBb7TiRaAoFfQ0ad3SfJB', 'spotify:track:5Ih3beNTwxJRXACn1sQ22K', 'spotify:track:1LzFh1VZ0FLeUesOFEuhyl', 'spotify:track:0xSKobz5d2E8oIkwTumwkZ', 'spotify:track:0XDFrRl5464H97zLQZiC1W', 'spotify:track:4SCFLXNIkUw33S38huavYv', 'spotify:track:6y20BV5L33R8YXM0YuI38N', 'spotify:track:2cN1EHGBfyhFTzacKK4VAA', 'spotify:track:0TyW7t2bweA1BLsIOc2iah', 'spotify:track:1oqcn0Mc6bQmEfnysGcZiV', 'spotify:track:1ngf3LUQCsqQABpjImw6sH', 'spotify:track:5uV3YukQeIkpB0FFNIxzH5', 'spotify:track:5aYfm0n28K9BhHxVcFz6Az', 'spotify:track:3xIPXPCtPcHbLmqEgVukGP', 'spotify:track:38ntldNbvsj8mC1jlCjUe4', 'spotify:track:5TdsylMARn0PxbHqrmmJoS', 'spotify:track:0YWyKtLAlmVjryfY6CSxYE', 'spotify:track:4gWxE8SzthJ3MWyVXG9G6q', 'spotify:track:5qnTuirSpGyIkM0nnQH0fF', 'spotify:track:1qpXhP3O5CSVQyc90dQeJc', 'spotify:track:5zzywMxWuJfnVWKRxb09fj', 'spotify:track:75aq1o4kjHR4OE9FVvnKji', 'spotify:track:5ca8JUwSh6qumvIZBl89FM', 'spotify:track:5FvMPlKxpO32lONTm3XsEq', 'spotify:track:3MCCYUXWRRGVk4sf2IhzoJ', 'spotify:track:1fDFHXcykq4iw8Gg7s5hG9', 'spotify:track:26xccE3TF4wMkr5amAnmhs', 'spotify:track:0odIT9B9BvOCnXfS0e4lB5', 'spotify:track:6slnz0q9Peo9Pnok7U51so', 'spotify:track:5AZna7mtjo24Ih0ZzpdV11', 'spotify:track:62cdPqaOoaQng2DXbT47j7', 'spotify:track:7BiQM3QLQqsdzu0MVZpbPU', 'spotify:track:7qlAL3ElN1KONpIG0PC4Pd', 'spotify:track:3O8G8eVrhfXTGttyQ1xVuq', 'spotify:track:3bNv3VuUOKgrf5hu3YcuRo', 'spotify:track:6zTxT0lmklEOfH8TtNLd1a', 'spotify:track:05Ke9LELmOiA5i3L0ybFUy', 'spotify:track:0yc6Gst2xkRu0eMLeRMGCX']\n"
     ]
    }
   ],
   "source": [
    "songs_for_playlists = []\n",
    "for keyword in dict_of_words.keys():\n",
    "    searchResults = sp.search(q=\"artist:\" + keyword, type=\"track\", limit=1)\n",
    "    # if the search returns anything\n",
    "    if len(searchResults['tracks']['items']) > 0:\n",
    "        songs_for_playlists.append(searchResults['tracks']['items'][0]['uri'])\n",
    "\n",
    "print(songs_for_playlists)"
   ]
  },
  {
   "cell_type": "code",
   "execution_count": 64,
   "id": "e89c6e07",
   "metadata": {},
   "outputs": [],
   "source": [
    "list_of_words = []\n",
    "# NESTED for loop (bruh)\n",
    "# go through each title\n",
    "for title in article_titles:\n",
    "    \n",
    "# go through each word \n",
    "    for word in title.lower().split(\" \"):\n",
    "    # is the word not a stopword?\n",
    "    # is the word not a number?\n",
    "        if word not in stopwords.words('english') and word.isalpha():\n",
    "            list_of_words.append(word)"
   ]
  },
  {
   "cell_type": "code",
   "execution_count": 70,
   "id": "86c3bb83",
   "metadata": {},
   "outputs": [],
   "source": [
    "songs_for_playlist = []\n",
    "\n",
    "for keyword in range(50):\n",
    "    new_keyword = random.choice(list_of_words)\n",
    "    #search_term = random.choice(list(unique_words))\n",
    "    searchResults = sp.search(q=\"artist:\" + new_keyword, type=\"track\", limit=1)\n",
    "    if len(searchResults['tracks']['items']) > 0:\n",
    "        first_song = searchResults['tracks']['items'][0]\n",
    "        songs_for_playlist.append(first_song['uri'])"
   ]
  },
  {
   "cell_type": "code",
   "execution_count": 71,
   "id": "9bb406fb",
   "metadata": {},
   "outputs": [
    {
     "data": {
      "text/plain": [
       "['spotify:track:0AQHfKjzky28rf5ytfBANJ',\n",
       " 'spotify:track:3bNv3VuUOKgrf5hu3YcuRo',\n",
       " 'spotify:track:4RCns29f0ef8OLnU2cRpSp',\n",
       " 'spotify:track:4LytZJ7RAGP1ECmbxzEoIk',\n",
       " 'spotify:track:5qnTuirSpGyIkM0nnQH0fF',\n",
       " 'spotify:track:26xccE3TF4wMkr5amAnmhs',\n",
       " 'spotify:track:6HEw7G63WkDZbD3DGEBE7N',\n",
       " 'spotify:track:6slnz0q9Peo9Pnok7U51so',\n",
       " 'spotify:track:36jSIOSE72neBbKntCthqw',\n",
       " 'spotify:track:38oKZYp7GYisfrhWFAlTkV',\n",
       " 'spotify:track:1ONWW6AtqqwjhMdQ74n2fM',\n",
       " 'spotify:track:7dDrR6vMK1JAwZZ5MIWgme',\n",
       " 'spotify:track:7BiQM3QLQqsdzu0MVZpbPU',\n",
       " 'spotify:track:0IVkP59yJ9GFF6B7IrvrxA',\n",
       " 'spotify:track:7sTf1AzpPzzglMeBRTWhqP',\n",
       " 'spotify:track:5uSFGgIfHMT3osrAd9n9ym',\n",
       " 'spotify:track:3FIb81xI76x7pGPbFbzZXu',\n",
       " 'spotify:track:4gWxE8SzthJ3MWyVXG9G6q',\n",
       " 'spotify:track:7w87IxuO7BDcJ3YUqCyMTT',\n",
       " 'spotify:track:4vxsJyTGsAxnXWDuYseeQP',\n",
       " 'spotify:track:6zTxT0lmklEOfH8TtNLd1a',\n",
       " 'spotify:track:0O6u0VJ46W86TxN9wgyqDj',\n",
       " 'spotify:track:7IBb7TiRaAoFfQ0ad3SfJB',\n",
       " 'spotify:track:0vJN0jvhJ5nknlcIdDdlD3',\n",
       " 'spotify:track:6HEw7G63WkDZbD3DGEBE7N',\n",
       " 'spotify:track:4RCns29f0ef8OLnU2cRpSp',\n",
       " 'spotify:track:0MaQuFkyOav01SbKFARhQF',\n",
       " 'spotify:track:3FMedgGsLUNwx8NciePFEK',\n",
       " 'spotify:track:53MjkBaap2xXjVhJ59d2kq',\n",
       " 'spotify:track:5EbKmAd0qWa7nl7E2ys6Cp',\n",
       " 'spotify:track:3FIb81xI76x7pGPbFbzZXu',\n",
       " 'spotify:track:1YaQLZo3xGvu672TFRJFx4',\n",
       " 'spotify:track:4gAU0cHQJFxj1n2ZDiEIzG',\n",
       " 'spotify:track:4gWxE8SzthJ3MWyVXG9G6q',\n",
       " 'spotify:track:53xAT6jud1w0NqlBjSW4VB',\n",
       " 'spotify:track:4N7ERSgm2XUujwW2NST8rq',\n",
       " 'spotify:track:7IBb7TiRaAoFfQ0ad3SfJB',\n",
       " 'spotify:track:30QD4VRP9yEneOh0eGTrtJ',\n",
       " 'spotify:track:4cIZQdTrTk4qIqGaDQz9ci',\n",
       " 'spotify:track:0YWyKtLAlmVjryfY6CSxYE',\n",
       " 'spotify:track:2t0Ih7qpbuYQbJXgGmjRoL',\n",
       " 'spotify:track:1dzQoRqT5ucxXVaAhTcT0J',\n",
       " 'spotify:track:1zkQJfNo2KpqqCKOOvWPF4',\n",
       " 'spotify:track:0scOdTwD5lyyIragAQtY9N',\n",
       " 'spotify:track:7w87IxuO7BDcJ3YUqCyMTT',\n",
       " 'spotify:track:0YWyKtLAlmVjryfY6CSxYE',\n",
       " 'spotify:track:30QD4VRP9yEneOh0eGTrtJ',\n",
       " 'spotify:track:2IVsRhKrx8hlQBOWy4qebo',\n",
       " 'spotify:track:0xSKobz5d2E8oIkwTumwkZ']"
      ]
     },
     "execution_count": 71,
     "metadata": {},
     "output_type": "execute_result"
    }
   ],
   "source": [
    "songs_for_playlist"
   ]
  },
  {
   "cell_type": "code",
   "execution_count": 72,
   "id": "69614b0e",
   "metadata": {},
   "outputs": [
    {
     "name": "stdout",
     "output_type": "stream",
     "text": [
      "{'snapshot_id': 'MywwYTk2NDVhMDhjZTZiMDMxYTIzZDhkYmRiYzk1ZmNmYmI2NTgyMzhh'}\n"
     ]
    }
   ],
   "source": [
    "# if you make a private playlist you need a different SCOPE \n",
    "# scope = 'user-read-private user-read-playback-state user-modify-playback-state playlist-modify-public user-library-read'\n",
    "# change this ^\n",
    "# to this:\n",
    "# scope = 'user-read-private user-read-playback-state user-modify-playback-state playlist-modify-private user-library-read'\n",
    "my_playlist = sp.user_playlist_create(user=username, name=\"Todays News\", public=True,\n",
    "                                      description=\"Songs for the news\")\n",
    "results = sp.user_playlist_add_tracks(username, my_playlist['id'], songs_for_playlist)\n",
    "print(results)"
   ]
  },
  {
   "cell_type": "code",
   "execution_count": 73,
   "id": "7386704b",
   "metadata": {},
   "outputs": [
    {
     "data": {
      "text/plain": [
       "True"
      ]
     },
     "execution_count": 73,
     "metadata": {},
     "output_type": "execute_result"
    }
   ],
   "source": [
    "webbrowser.open(my_playlist['external_urls']['spotify'])"
   ]
  },
  {
   "cell_type": "code",
   "execution_count": null,
   "id": "d240c4ee",
   "metadata": {},
   "outputs": [],
   "source": []
  }
 ],
 "metadata": {
  "kernelspec": {
   "display_name": "Python 3 (ipykernel)",
   "language": "python",
   "name": "python3"
  },
  "language_info": {
   "codemirror_mode": {
    "name": "ipython",
    "version": 3
   },
   "file_extension": ".py",
   "mimetype": "text/x-python",
   "name": "python",
   "nbconvert_exporter": "python",
   "pygments_lexer": "ipython3",
   "version": "3.11.0"
  }
 },
 "nbformat": 4,
 "nbformat_minor": 5
}
